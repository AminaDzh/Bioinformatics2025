{
 "cells": [
  {
   "cell_type": "markdown",
   "id": "28350791-0951-4bb3-9267-d44c662f3e2c",
   "metadata": {},
   "source": [
    "## Домашняя работа №3"
   ]
  },
  {
   "cell_type": "markdown",
   "id": "0ff01442-fa01-4388-a6da-e3366d7dfba3",
   "metadata": {},
   "source": [
    "#### Алгоритм Нидлмана-Вунша"
   ]
  },
  {
   "cell_type": "code",
   "execution_count": 2,
   "id": "c6d70eb7-f5e2-4456-9961-fef5570b3573",
   "metadata": {},
   "outputs": [],
   "source": [
    "seq1 = 'TCAAGCA'\n",
    "seq2 = 'GCAAGA'\n",
    "seq3 = 'GCATGACTTGAACCAGCTTACGATGACTAA'\n",
    "seq4 = 'CAGACGACTTAGGCCCCAGCTAACGACGCCAA'"
   ]
  },
  {
   "cell_type": "code",
   "execution_count": 3,
   "id": "6dd7a9b4-8c6c-429f-addb-2fc0ae885885",
   "metadata": {},
   "outputs": [],
   "source": [
    "def needleman(seq1, seq2, match=1, gap=-2, mismatch=-1):\n",
    "    n = len(seq1)\n",
    "    m = len(seq2)\n",
    "    dp = [[0] * (m + 1) for i in range(n + 1)]\n",
    "\n",
    "    for i in range(n + 1):\n",
    "        dp[i][0] = i * gap\n",
    "    for j in range(m + 1):\n",
    "        dp[0][j] = j * gap\n",
    "\n",
    "    for i in range(1, n + 1):\n",
    "        for j in range(1, m + 1):\n",
    "            if seq1[i - 1] == seq2[j - 1]:\n",
    "                diag = dp[i - 1][j - 1] + match\n",
    "            else:\n",
    "                diag = dp[i - 1][j - 1] + mismatch\n",
    "            delete = dp[i - 1][j] + gap\n",
    "            insert = dp[i][j - 1] + gap\n",
    "\n",
    "            dp[i][j] = max(diag, delete, insert)\n",
    "\n",
    "    res1, res2 = \"\", \"\"  #получим выровненные последовательности\n",
    "    i, j = n, m\n",
    "    while i > 0 or j > 0:     \n",
    "        if i > 0 and j > 0 and dp[i][j] == dp[i - 1][j - 1] + (match if seq1[i - 1] == seq2[j - 1] else mismatch):\n",
    "            res1 = seq1[i - 1] + res1\n",
    "            res2 = seq2[j - 1] + res2\n",
    "            i -= 1\n",
    "            j -= 1\n",
    "        elif i > 0 and dp[i][j] == dp[i - 1][j] + gap :\n",
    "            res1 = seq1[i - 1] + res1\n",
    "            res2 = \"-\" + res2\n",
    "            i -= 1\n",
    "        else:\n",
    "            res1 = \"-\" + res1\n",
    "            res2 = seq2[j - 1] + res2\n",
    "            j -= 1\n",
    "\n",
    "    return res1, res2, dp[n][m]"
   ]
  },
  {
   "cell_type": "code",
   "execution_count": 4,
   "id": "6fcf29a3-ddbe-4468-9063-0fc274c6e4de",
   "metadata": {},
   "outputs": [
    {
     "name": "stdout",
     "output_type": "stream",
     "text": [
      "('TCAAGCA', 'GCAAG-A', 2)\n"
     ]
    }
   ],
   "source": [
    "print(needleman(seq1,seq2))"
   ]
  },
  {
   "cell_type": "code",
   "execution_count": 5,
   "id": "7296237d-af75-4d1c-a397-8ae071a0f218",
   "metadata": {},
   "outputs": [
    {
     "name": "stdout",
     "output_type": "stream",
     "text": [
      "('-GCATGACTT--GAACCAGCTTACGATGACTAA', 'CAGACGACTTAGGCCCCAGCTAACGACG-CCAA', 5)\n"
     ]
    }
   ],
   "source": [
    "print(needleman(seq3,seq4))"
   ]
  },
  {
   "cell_type": "markdown",
   "id": "cf73c269-7580-4814-bae8-8f15dd46d215",
   "metadata": {},
   "source": [
    "#### Алгоритм Смита-Ватермана"
   ]
  },
  {
   "cell_type": "code",
   "execution_count": 6,
   "id": "708fe2d3-9698-4239-99a9-85e109f09be2",
   "metadata": {},
   "outputs": [],
   "source": [
    "def smith_waterman(seq1, seq2, match=1, gap=-2, mismatch=-1):\n",
    "    n = len(seq1)\n",
    "    m = len(seq2)\n",
    "    dp = [[0] * (m + 1) for _ in range(n + 1)]\n",
    "    max_score = 0\n",
    "    max_i, max_j = 0, 0\n",
    "\n",
    "    for i in range(1, n + 1):\n",
    "        for j in range(1, m + 1):\n",
    "            if seq1[i - 1] == seq2[j - 1]:\n",
    "                diag = dp[i - 1][j - 1] + match\n",
    "            else:\n",
    "                diag = dp[i - 1][j - 1] + mismatch\n",
    "\n",
    "            delete = dp[i - 1][j] + gap\n",
    "            insert = dp[i][j - 1] + gap\n",
    "\n",
    "            dp[i][j] = max(0, diag, delete, insert)\n",
    " \n",
    "            if dp[i][j] > max_score:\n",
    "                max_score = dp[i][j]\n",
    "                max_i, max_j = i, j\n",
    "\n",
    "    res1, res2 = \"\", \"\" #получим выровненные последовательности\n",
    "    i, j = max_i, max_j\n",
    "    while dp[i][j] != 0:     \n",
    "        if i > 0 and j > 0 and dp[i][j] == dp[i - 1][j - 1] + (match if seq1[i - 1] == seq2[j - 1] else mismatch):\n",
    "            res1 = seq1[i - 1] + res1\n",
    "            res2 = seq2[j - 1] + res2\n",
    "            i -= 1\n",
    "            j -= 1\n",
    "        elif i > 0 and dp[i][j] == dp[i - 1][j] + gap :\n",
    "            res1 = seq1[i - 1] + res1\n",
    "            res2 = \"-\" + res2\n",
    "            i -= 1\n",
    "        else:\n",
    "            res1 = \"-\" + res1\n",
    "            res2 = seq2[j - 1] + res2\n",
    "            j -= 1\n",
    "    return res1, res2, dp[n][m]"
   ]
  },
  {
   "cell_type": "code",
   "execution_count": 7,
   "id": "934639bf-186e-46fc-a655-4c034d034d5a",
   "metadata": {},
   "outputs": [
    {
     "name": "stdout",
     "output_type": "stream",
     "text": [
      "('CAAG', 'CAAG', 3)\n"
     ]
    }
   ],
   "source": [
    "print(smith_waterman(seq1,seq2))"
   ]
  },
  {
   "cell_type": "code",
   "execution_count": 8,
   "id": "4e5d84b5-265b-4dfa-8cc0-b246bb2d24b5",
   "metadata": {},
   "outputs": [
    {
     "name": "stdout",
     "output_type": "stream",
     "text": [
      "('CCAGCTTACGA', 'CCAGCTAACGA', 9)\n"
     ]
    }
   ],
   "source": [
    "print(smith_waterman(seq3,seq4))"
   ]
  },
  {
   "cell_type": "markdown",
   "id": "e9c56f04-39c7-4387-ab63-8c0b80fa06c3",
   "metadata": {},
   "source": [
    "Поскольку Алгоритм Смита-Ватермана ищет именно локальное выравнивание, нкулеотиды которые ухудшают результат выкидываются "
   ]
  },
  {
   "cell_type": "markdown",
   "id": "f79e4686-6027-4953-9029-d48a5d41b2b6",
   "metadata": {},
   "source": [
    "#### Проверим себя с готовыми реализациями глобальных выравниваний"
   ]
  },
  {
   "cell_type": "code",
   "execution_count": 30,
   "id": "64b11e4c-a249-4f17-8aa8-a753ab74f141",
   "metadata": {},
   "outputs": [
    {
     "name": "stdout",
     "output_type": "stream",
     "text": [
      "target            0 TCAAGCA 7\n",
      "                  0 .||||-| 7\n",
      "query             0 GCAAG-A 6\n",
      "\n",
      "Score: 2.0\n"
     ]
    }
   ],
   "source": [
    "from Bio import Align\n",
    "\n",
    "aligner = Align.PairwiseAligner()\n",
    "aligner.mode = 'global'  # \n",
    "aligner.match_score = 1  \n",
    "aligner.mismatch_score = -1 \n",
    "aligner.open_gap_score = -2  \n",
    "aligner.extend_gap_score = -2\n",
    "\n",
    "alignments = aligner.align(seq1, seq2)\n",
    "print(alignments[0])  #выведем только первый вариант выравнивания\n",
    "print(f\"Score: {alignments[0].score}\")"
   ]
  },
  {
   "cell_type": "code",
   "execution_count": 31,
   "id": "33c1c1fd-238e-486c-bd9e-fd5dab087956",
   "metadata": {},
   "outputs": [
    {
     "name": "stdout",
     "output_type": "stream",
     "text": [
      "target            0 GC-ATGACTT-GAACC-AGCTTACGATGACTAA 30\n",
      "                  0 ..-|.|||||-|..||-||||.||||.|.|-|| 33\n",
      "query             0 CAGACGACTTAGGCCCCAGCTAACGACGCC-AA 32\n",
      "\n",
      "Score: 5.0\n"
     ]
    }
   ],
   "source": [
    "alignments = aligner.align(seq3, seq4)\n",
    "print(alignments[0]) #выведем только первый вариант выравнивания\n",
    "print(f\"Score: {alignments[0].score}\")"
   ]
  },
  {
   "cell_type": "markdown",
   "id": "62257507-70c0-41ae-b240-533640f8d4fe",
   "metadata": {},
   "source": [
    "Выводим только первые варианты, так как score везде одинаковый. Как мы видим алгоритмы написанные вручную дают тот же результат, что и реализованные пакеты Python"
   ]
  },
  {
   "cell_type": "code",
   "execution_count": null,
   "id": "4a4e3fc2-997a-4f1d-9b78-9caf8952f921",
   "metadata": {},
   "outputs": [],
   "source": []
  }
 ],
 "metadata": {
  "kernelspec": {
   "display_name": "Python 3 (ipykernel)",
   "language": "python",
   "name": "python3"
  },
  "language_info": {
   "codemirror_mode": {
    "name": "ipython",
    "version": 3
   },
   "file_extension": ".py",
   "mimetype": "text/x-python",
   "name": "python",
   "nbconvert_exporter": "python",
   "pygments_lexer": "ipython3",
   "version": "3.8.12"
  }
 },
 "nbformat": 4,
 "nbformat_minor": 5
}
