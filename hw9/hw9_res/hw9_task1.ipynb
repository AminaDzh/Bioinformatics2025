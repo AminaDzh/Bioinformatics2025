{
 "cells": [
  {
   "cell_type": "markdown",
   "id": "511a66d9-c382-4920-9a26-b36fcbbf5bf1",
   "metadata": {},
   "source": [
    "### Домашнее задание 9\n",
    "Задача 1\n",
    "\n",
    "Сгенирируйте в python равномерное распределение и постройте для него ящик с усами\n",
    "Для следующих данных:\n",
    "79  80  80  80  74  80  80  79  64  78  73  78  74  45  81  48  80  82  82  70\n",
    "\n",
    "(a.) Получите квартили. \n",
    "\n",
    "(b.) Определите межквартильный размах. \n",
    "\n",
    "(c.) Найдите минимум, Q25, медиану, Q75 и максимум \n",
    "\n",
    "(d.) Определите потенциальные выбросы, если таковые имеются. \n",
    "\n",
    "(e.) Постройте ящик с усами."
   ]
  },
  {
   "cell_type": "code",
   "execution_count": 8,
   "id": "c2b36b07-b3e9-4f71-8463-1a8a8dbcf99c",
   "metadata": {},
   "outputs": [
    {
     "name": "stdout",
     "output_type": "stream",
     "text": [
      "a. квартили\n",
      "  Q1 : 73.75\n",
      "  Q2 : 79.0\n",
      "  Q3 : 80.0\n",
      "b. межквартильный размах\n",
      "  IQR = Q3 - Q1 = 6.25\n",
      "c. статистики\n",
      "  Минимум: 45\n",
      "  Q25: 73.75\n",
      "  Медиана: 79.0\n",
      "  Q75: 80.0\n",
      "  Максимум: 82\n",
      "d. Выбросы:[64, 45, 48]\n"
     ]
    },
    {
     "data": {
      "image/png": "[encoded data removed]",
      "text/plain": [
       "<Figure size 576x432 with 1 Axes>"
      ]
     },
     "metadata": {
      "needs_background": "light"
     },
     "output_type": "display_data"
    }
   ],
   "source": [
    "import numpy as np\n",
    "import matplotlib.pyplot as plt\n",
    "\n",
    "data = [79, 80, 80, 80, 74, 80, 80, 79, 64, 78, 73, 78, 74, 45, 81, 48, 80, 82, 82, 70]\n",
    "\n",
    "q25 = np.percentile(data, 25)\n",
    "q50 = np.percentile(data, 50)\n",
    "q75 = np.percentile(data, 75)\n",
    "\n",
    "print(\"a. квартили\")\n",
    "print(f\"  Q1 : {q25}\")\n",
    "print(f\"  Q2 : {q50}\")\n",
    "print(f\"  Q3 : {q75}\")\n",
    "\n",
    "print(\"b. межквартильный размах\")\n",
    "print(f\"  IQR = Q3 - Q1 = {q75-q25}\")\n",
    "\n",
    "print(\"c. статистики\")\n",
    "print(f\"  Минимум: {np.min(data)}\")\n",
    "print(f\"  Q25: {q25}\")\n",
    "print(f\"  Медиана: {q50}\")\n",
    "print(f\"  Q75: {q75}\")\n",
    "print(f\"  Максимум: {np.max(data)}\")\n",
    "\n",
    "\n",
    "low = q25 - 1.5 * (q75-q25)\n",
    "up= q75 + 1.5 * (q75-q25)\n",
    "outliers = [x for x in data if x < low or x > up]\n",
    "print(f\"d. Выбросы:{outliers}\")\n",
    "\n",
    "\n",
    "plt.figure(figsize=(8, 6))\n",
    "plt.boxplot(data, vert=True, patch_artist=True)\n",
    "plt.title(\"Ящик с усами\")\n",
    "plt.ylabel(\"Значения\")\n",
    "plt.grid()\n",
    "plt.show()"
   ]
  },
  {
   "cell_type": "code",
   "execution_count": null,
   "id": "158dbe1b-21b3-43fe-bbcb-86826caaa146",
   "metadata": {},
   "outputs": [],
   "source": []
  }
 ],
 "metadata": {
  "kernelspec": {
   "display_name": "Python 3 (ipykernel)",
   "language": "python",
   "name": "python3"
  },
  "language_info": {
   "codemirror_mode": {
    "name": "ipython",
    "version": 3
   },
   "file_extension": ".py",
   "mimetype": "text/x-python",
   "name": "python",
   "nbconvert_exporter": "python",
   "pygments_lexer": "ipython3",
   "version": "3.8.12"
  }
 },
 "nbformat": 4,
 "nbformat_minor": 5
}
